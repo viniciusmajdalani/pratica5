{
  "nbformat": 4,
  "nbformat_minor": 0,
  "metadata": {
    "colab": {
      "provenance": [],
      "authorship_tag": "ABX9TyN8ZwLaH9mNva/cBgOsH3ow",
      "include_colab_link": true
    },
    "kernelspec": {
      "name": "python3",
      "display_name": "Python 3"
    },
    "language_info": {
      "name": "python"
    }
  },
  "cells": [
    {
      "cell_type": "markdown",
      "metadata": {
        "id": "view-in-github",
        "colab_type": "text"
      },
      "source": [
        "<a href=\"https://colab.research.google.com/github/viniciusmajdalani/pratica5/blob/main/VINICIUS_MAJDALANI_TRABALHO_MISS%C3%83O_5.ipynb\" target=\"_parent\"><img src=\"https://colab.research.google.com/assets/colab-badge.svg\" alt=\"Open In Colab\"/></a>"
      ]
    },
    {
      "cell_type": "markdown",
      "source": [
        "![c7b8f30e-b02e-4a4d-9c08-458321ee974d.JPG](data:image/jpeg;base64,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)"
      ],
      "metadata": {
        "id": "Fm7oHeXkPeKp"
      }
    },
    {
      "cell_type": "markdown",
      "source": [
        "\n",
        "\n",
        "---\n",
        "\n",
        "\n",
        "CAMPUS: PITANGUEIRAS - LAURO DE FREITAS - BAHIA\n",
        "\n",
        "INSTITUIÇÃO: ESTÁCIO DE SÁ\n",
        "\n",
        "CURSO: DESENVOLVIMENTO FULL STACK\n",
        "\n",
        "DISCIPLINA: NÍVEL 5 - COLOCANDO TUDO EM ORDEM E GUARDANDO - MUNDO 1\n",
        "\n",
        "TURMA: 22.3 - 1º SEMESTRE\n",
        "\n",
        "ALUNO: VINÍCIUS CRUZ MAJDALANI\n",
        "\n",
        "MATRICULA: 2022.08.32730-3"
      ],
      "metadata": {
        "id": "RfYsJ234QY_E"
      }
    },
    {
      "cell_type": "markdown",
      "source": [
        "\n",
        "\n",
        "---\n",
        "\n",
        "TÍTULO DA PRÁTICA: \n",
        "\n",
        "Implementação de um programa para manipular dados de um arquivo texto e visualizá-los em um histograma e nuvem de palavras\n"
      ],
      "metadata": {
        "id": "bp5B_02YTU1y"
      }
    },
    {
      "cell_type": "markdown",
      "source": [
        "\n",
        "\n",
        "---\n",
        "\n",
        "\n",
        "OBJETIVOS DA PRÁTICA\n",
        "\n",
        "1. Gerar dados de testes\n",
        "2. Gravar e recuperar dados de arquivos textos\n",
        "3. Manipular os dados para visualizá-los em um histograma\n",
        "4. Manipular os dados para visualizá-los em uma nuvem de palavras\n",
        "5. No final do projeto, o aluno vai ter implementado um programa para gerar dados com nomes de pessoas e respectivas pontuações, gravar em um arquivo, recuperar os dados do arquivo, visualizar os dados das pontuações das pessoas em um histograma e em uma nuvem de palavras.\n",
        "\n"
      ],
      "metadata": {
        "id": "rlXEio2lStIo"
      }
    },
    {
      "cell_type": "markdown",
      "source": [
        "---\n",
        "\n",
        "\n",
        "# **0) INSTALAÇÃO DE PACOTES**\n",
        "\n",
        "---"
      ],
      "metadata": {
        "id": "9BFzouOtLUWT"
      }
    },
    {
      "cell_type": "code",
      "source": [
        "!pip install faker"
      ],
      "metadata": {
        "id": "aWREKkr7DEvY",
        "colab": {
          "base_uri": "https://localhost:8080/"
        },
        "outputId": "052c195c-6985-478c-be90-78579b013022"
      },
      "execution_count": 1,
      "outputs": [
        {
          "output_type": "stream",
          "name": "stdout",
          "text": [
            "Looking in indexes: https://pypi.org/simple, https://us-python.pkg.dev/colab-wheels/public/simple/\n",
            "Collecting faker\n",
            "  Downloading Faker-15.3.3-py3-none-any.whl (1.6 MB)\n",
            "\u001b[K     |████████████████████████████████| 1.6 MB 3.5 MB/s \n",
            "\u001b[?25hRequirement already satisfied: typing-extensions>=3.10.0.1 in /usr/local/lib/python3.7/dist-packages (from faker) (4.1.1)\n",
            "Requirement already satisfied: python-dateutil>=2.4 in /usr/local/lib/python3.7/dist-packages (from faker) (2.8.2)\n",
            "Requirement already satisfied: six>=1.5 in /usr/local/lib/python3.7/dist-packages (from python-dateutil>=2.4->faker) (1.15.0)\n",
            "Installing collected packages: faker\n",
            "Successfully installed faker-15.3.3\n"
          ]
        }
      ]
    },
    {
      "cell_type": "code",
      "source": [
        "!pip install num2words"
      ],
      "metadata": {
        "id": "Nd7qxd_zDPnU",
        "colab": {
          "base_uri": "https://localhost:8080/"
        },
        "outputId": "cb36bc45-ea60-4883-b0d5-08bcfae57711"
      },
      "execution_count": 2,
      "outputs": [
        {
          "output_type": "stream",
          "name": "stdout",
          "text": [
            "Looking in indexes: https://pypi.org/simple, https://us-python.pkg.dev/colab-wheels/public/simple/\n",
            "Collecting num2words\n",
            "  Downloading num2words-0.5.12-py3-none-any.whl (125 kB)\n",
            "\u001b[K     |████████████████████████████████| 125 kB 4.7 MB/s \n",
            "\u001b[?25hCollecting docopt>=0.6.2\n",
            "  Downloading docopt-0.6.2.tar.gz (25 kB)\n",
            "Building wheels for collected packages: docopt\n",
            "  Building wheel for docopt (setup.py) ... \u001b[?25l\u001b[?25hdone\n",
            "  Created wheel for docopt: filename=docopt-0.6.2-py2.py3-none-any.whl size=13723 sha256=7c2c33a2819558f0aa25b4b12e9ac6efd2edf4f2c22ac1e8f87e6da6f1b66306\n",
            "  Stored in directory: /root/.cache/pip/wheels/72/b0/3f/1d95f96ff986c7dfffe46ce2be4062f38ebd04b506c77c81b9\n",
            "Successfully built docopt\n",
            "Installing collected packages: docopt, num2words\n",
            "Successfully installed docopt-0.6.2 num2words-0.5.12\n"
          ]
        }
      ]
    },
    {
      "cell_type": "markdown",
      "source": [
        "---\n",
        "\n",
        "\n",
        "# **1) GERAÇÃO DE DADOS DE TESTE**\n",
        "\n",
        "---"
      ],
      "metadata": {
        "id": "7Kx2KiWqL-_t"
      }
    },
    {
      "cell_type": "code",
      "source": [
        "from faker import Faker"
      ],
      "metadata": {
        "id": "ZmAIvU57DqUy"
      },
      "execution_count": 3,
      "outputs": []
    },
    {
      "cell_type": "code",
      "source": [
        "from num2words import num2words"
      ],
      "metadata": {
        "id": "BNnzgHnPDtTL"
      },
      "execution_count": 4,
      "outputs": []
    },
    {
      "cell_type": "code",
      "source": [
        "from wordcloud import WordCloud\n",
        "import random, ast\n",
        "import matplotlib.pyplot as plt"
      ],
      "metadata": {
        "id": "J7qrZfs5GTCV"
      },
      "execution_count": 5,
      "outputs": []
    },
    {
      "cell_type": "code",
      "source": [
        "fake = Faker('pt_BR')\n",
        "\n",
        "quantidade = 50\n",
        "notaspossiveis = 10\n",
        "lista = {fake.name(): random.randint(0,notaspossiveis) for i in range(quantidade)}\n",
        "print(lista)"
      ],
      "metadata": {
        "colab": {
          "base_uri": "https://localhost:8080/"
        },
        "id": "QnFPZiVoKBkh",
        "outputId": "47983856-7b45-43f5-f4df-e31277e8ec2f"
      },
      "execution_count": 6,
      "outputs": [
        {
          "output_type": "stream",
          "name": "stdout",
          "text": [
            "{'Dra. Caroline Barbosa': 0, 'Marcos Vinicius da Paz': 2, 'Maria Sophia Castro': 9, 'Giovanna Freitas': 7, 'Luiz Fernando da Cruz': 5, 'Gabriela Silveira': 2, 'Clara Alves': 9, 'Heloísa das Neves': 0, 'Ana Lívia Melo': 5, 'Guilherme Carvalho': 3, 'Isabelly Nascimento': 10, 'Pedro Lucas Rezende': 9, 'Benjamin Porto': 9, 'Eduardo Fernandes': 3, 'Felipe Azevedo': 4, 'Bryan Pires': 7, 'Vinicius Pereira': 3, 'Thiago da Cunha': 10, 'Maria Luiza da Mata': 0, 'Dr. Bruno Freitas': 6, 'Vitor Duarte': 5, 'Yago Moura': 10, 'Isabella Cavalcanti': 8, 'Isaac Correia': 10, 'Gustavo Henrique Souza': 6, 'Cecília Rocha': 10, 'Sra. Sarah das Neves': 9, 'Emanuel Cunha': 0, 'Emilly Santos': 6, 'Gustavo Henrique Castro': 0, 'Sofia Novaes': 4, 'Brenda Cavalcanti': 10, 'Alana da Mata': 9, 'Raquel da Conceição': 0, 'Sr. Luiz Miguel Monteiro': 1, 'Daniel Cunha': 0, 'Sra. Maysa Castro': 8, 'Heitor Viana': 1, 'Davi Nascimento': 9, 'Ana Luiza Monteiro': 7, 'Sra. Yasmin Nogueira': 4, 'Dra. Ana Julia da Mata': 5, 'Sr. Vitor Hugo Costela': 2, 'Laís Novaes': 5, 'Clara da Rocha': 6, 'Dra. Esther Moreira': 8, 'João Caldeira': 10, 'Maria Eduarda Cunha': 8, 'Gabriela Ferreira': 10, 'Sr. Samuel Nogueira': 0}\n"
          ]
        }
      ]
    },
    {
      "cell_type": "markdown",
      "source": [
        "---\n",
        "\n",
        "\n",
        "# **2) GRAVAÇÃO E RECUPERAÇÃO DOS DADOS DO ARQUIVO TEXTO**\n",
        "\n",
        "---"
      ],
      "metadata": {
        "id": "FpqWJq7TML_e"
      }
    },
    {
      "cell_type": "code",
      "source": [
        "open('notas.txt', 'w').write(str(lista))\n",
        "lista = ast.literal_eval(open('notas.txt', 'r').read())\n",
        "\n",
        "lista = [lista[i] for i in lista]\n",
        "maior = 0\n",
        "for i in lista:\n",
        "    vezes = lista.count(i)\n",
        "    if vezes > maior:\n",
        "        maior = vezes"
      ],
      "metadata": {
        "id": "KyP1gAfzKWyn"
      },
      "execution_count": 7,
      "outputs": []
    },
    {
      "cell_type": "markdown",
      "source": [
        "---\n",
        "\n",
        "\n",
        "# **3) MANIPULANDO DADOS PARA VISUALIZAÇÃO EM HISTOGRAMA**\n",
        "\n",
        "---"
      ],
      "metadata": {
        "id": "htQVonOvMmV8"
      }
    },
    {
      "cell_type": "code",
      "execution_count": 8,
      "metadata": {
        "colab": {
          "base_uri": "https://localhost:8080/",
          "height": 295
        },
        "id": "QR1huH8l6ZaV",
        "outputId": "c56fbf07-3dc3-4219-aa12-2bc1faa85ff2"
      },
      "outputs": [
        {
          "output_type": "display_data",
          "data": {
            "text/plain": [
              "<Figure size 432x288 with 1 Axes>"
            ],
            "image/png": "[encoded data removed]"
          },
          "metadata": {
            "needs_background": "light"
          }
        }
      ],
      "source": [
        "plt.hist(lista, notaspossiveis, facecolor='green', alpha=0.75, edgecolor='#000', linewidth=1.2)\n",
        "plt.xlabel('notas')\n",
        "plt.ylabel('quantidades')\n",
        "plt.title('Histograma de Notas')\n",
        "plt.show()"
      ]
    },
    {
      "cell_type": "markdown",
      "source": [
        "---\n",
        "\n",
        "\n",
        "# **4) MANIPULANDO DADOS PARA VISUALIZAÇÃO EM NUVEM DE PALAVRAS**\n",
        "\n",
        "---"
      ],
      "metadata": {
        "id": "LYVKa5FhM0J8"
      }
    },
    {
      "cell_type": "code",
      "source": [
        "lista = ','.join([num2words(i, lang='pt') for i in lista])\n",
        "nuvem_palavras = WordCloud(background_color='#fff').generate(lista)\n",
        "plt.imshow(nuvem_palavras, interpolation='bilinear')\n",
        "nuvem_palavras.to_file(\"Nuvem de palavras.png\")"
      ],
      "metadata": {
        "colab": {
          "base_uri": "https://localhost:8080/",
          "height": 236
        },
        "id": "eVoizorLLF4G",
        "outputId": "b3a2eba9-c7c0-4d09-ef21-3b4765d6eb26"
      },
      "execution_count": 9,
      "outputs": [
        {
          "output_type": "execute_result",
          "data": {
            "text/plain": [
              "<wordcloud.wordcloud.WordCloud at 0x7f4dc7fe7490>"
            ]
          },
          "metadata": {},
          "execution_count": 9
        },
        {
          "output_type": "display_data",
          "data": {
            "text/plain": [
              "<Figure size 432x288 with 1 Axes>"
            ],
            "image/png": "[encoded data removed]"
          },
          "metadata": {
            "needs_background": "light"
          }
        }
      ]
    },
    {
      "cell_type": "markdown",
      "source": [
        "\n",
        "\n",
        "---\n",
        "\n",
        "ANÁLISE E CONCLUSÃO\n",
        "\n",
        "**A. Qual a importância de manipular arquivos de texto?**\n",
        "\n",
        "Importante para a criação de backups, utilização de dados contidos em listas ou planilhas, sendo fundamental para qualquer desenvolvedor.\n",
        "\n",
        "**B. Qual a importância de visualizar os dados em um histograma?**\n",
        "\n",
        "Facilita a visualização dos dados, principalmente quando em grande volume, através do agrupamento de dados por classe.\n",
        "\n",
        "**C. O que significa a visualização por nuvem de palavras?**\n",
        "\n",
        "A nuvem de palavras é uma representação visual das palavras e frases mais comuns das respostas abertas.\n",
        "\n",
        "\n",
        "GITHUB\n",
        "https://github.com/viniciusmajdalani/pratica5/blob/8749a7169fc75e3b8c642315eeec3619a645a667/PRATICA5\n"
      ],
      "metadata": {
        "id": "XRd0Zs7gT8NF"
      }
    }
  ]
}